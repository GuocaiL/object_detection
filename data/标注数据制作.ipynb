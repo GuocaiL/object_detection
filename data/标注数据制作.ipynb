{
 "cells": [
  {
   "cell_type": "code",
   "execution_count": 16,
   "id": "63b7e16c-3ef2-44ec-adf9-6fe3a9b02410",
   "metadata": {},
   "outputs": [],
   "source": [
    "import sys, fitz\n",
    "import os\n",
    "import datetime\n",
    "def pdf_image(pdfPath, imgPath, zoom_x, zoom_y, rotation_angle):\n",
    "    # 打开PDF文件\n",
    "    pdf = fitz.open(pdfPath)\n",
    "    # 逐页读取PDF\n",
    "    for pg in range(0, pdf.pageCount):\n",
    "        page = pdf[pg]\n",
    "        print(page)\n",
    "        # 设置缩放和旋转系数\n",
    "        trans = fitz.Matrix(zoom_x, zoom_y).preRotate(rotation_angle)\n",
    "        pm = page.getPixmap(matrix=trans, alpha=False)\n",
    "        # 开始写图像\n",
    "        pm.writePNG(imgPath + str(pg) + \".png\")\n",
    "    pdf.close()\n",
    "\n",
    "\n",
    "# pdf_image(r\"./测试样本/贝格达伺服产品选型手册.pdf\", r\"tag-data/\", 2, 2, 0)"
   ]
  },
  {
   "cell_type": "code",
   "execution_count": null,
   "id": "e42c9524-d972-4bf3-a05c-efba0e5a96bc",
   "metadata": {},
   "outputs": [],
   "source": [
    "from pdf2image import convert_from_path\n",
    "import os\n",
    "import pandas as pd\n",
    "\n",
    "def transpdf2img(filePath = './title_recognition/source_data', filaName = '贝格达伺服产品选型手册.pdf'):\n",
    "    pages = convert_from_path(os.path.join(filePath, filaName) ,dpi=500, size=(1462, 1970))\n",
    "\n",
    "    # 保存\n",
    "    for i, page in enumerate(pages):\n",
    "        # print(page.filename)\n",
    "        if not os.path.exists('./title_recognition/images/{}.png'.format(filaName[:filaName.rfind(\".\")] + \"-\" + str(i) )):\n",
    "            page.save('./title_recognition/images/{}.png'.format(filaName[:filaName.rfind(\".\")] + \"-\" + str(i) ), 'png')\n",
    "        \n",
    "ts = set()\n",
    "for p in os.listdir('./title_recognition/source_data'):\n",
    "    if p.endswith(\".pdf\"):\n",
    "        transpdf2img(filaName = p)\n",
    "    # if p.endswith(\".xlsx\"):\n",
    "    #     # print(p)\n",
    "    #     ts |= set( pd.read_excel(os.path.join('./title_recognition/source_data', p))['类型'].values.tolist())\n",
    "# set(pd.read_excel(os.path.join('./title_recognition/source_data', \"消防用破拆工具.xlsx\"))['类型'].values.tolist()  )  "
   ]
  },
  {
   "cell_type": "code",
   "execution_count": 11,
   "id": "df418f0e-d053-4e2b-89f1-02e07ff0d913",
   "metadata": {},
   "outputs": [
    {
     "data": {
      "text/plain": [
       "{'产品', '企业介绍', '其他', '前封面', '后封面', '技术规则', '目录', '规则', '附录'}"
      ]
     },
     "execution_count": 11,
     "metadata": {},
     "output_type": "execute_result"
    }
   ],
   "source": [
    "ts"
   ]
  },
  {
   "cell_type": "code",
   "execution_count": 19,
   "id": "b26faa0e-a4d9-4a35-8170-9aa17bbefe84",
   "metadata": {},
   "outputs": [
    {
     "data": {
      "text/plain": [
       "['_Image__transformer',\n",
       " '__array_interface__',\n",
       " '__class__',\n",
       " '__copy__',\n",
       " '__delattr__',\n",
       " '__dict__',\n",
       " '__dir__',\n",
       " '__doc__',\n",
       " '__enter__',\n",
       " '__eq__',\n",
       " '__exit__',\n",
       " '__format__',\n",
       " '__ge__',\n",
       " '__getattr__',\n",
       " '__getattribute__',\n",
       " '__getstate__',\n",
       " '__gt__',\n",
       " '__hash__',\n",
       " '__init__',\n",
       " '__init_subclass__',\n",
       " '__le__',\n",
       " '__lt__',\n",
       " '__module__',\n",
       " '__ne__',\n",
       " '__new__',\n",
       " '__reduce__',\n",
       " '__reduce_ex__',\n",
       " '__repr__',\n",
       " '__setattr__',\n",
       " '__setstate__',\n",
       " '__sizeof__',\n",
       " '__str__',\n",
       " '__subclasshook__',\n",
       " '__weakref__',\n",
       " '_category',\n",
       " '_close_exclusive_fp_after_loading',\n",
       " '_copy',\n",
       " '_crop',\n",
       " '_dump',\n",
       " '_ensure_mutable',\n",
       " '_exclusive_fp',\n",
       " '_exif',\n",
       " '_expand',\n",
       " '_get_safe_box',\n",
       " '_getxmp',\n",
       " '_min_frame',\n",
       " '_new',\n",
       " '_open',\n",
       " '_read_magic',\n",
       " '_read_token',\n",
       " '_reload_exif',\n",
       " '_repr_png_',\n",
       " '_repr_pretty_',\n",
       " '_seek_check',\n",
       " '_size',\n",
       " 'alpha_composite',\n",
       " 'apply_transparency',\n",
       " 'close',\n",
       " 'convert',\n",
       " 'copy',\n",
       " 'crop',\n",
       " 'custom_mimetype',\n",
       " 'decoderconfig',\n",
       " 'decodermaxblock',\n",
       " 'draft',\n",
       " 'effect_spread',\n",
       " 'encoderconfig',\n",
       " 'encoderinfo',\n",
       " 'entropy',\n",
       " 'filename',\n",
       " 'filter',\n",
       " 'format',\n",
       " 'format_description',\n",
       " 'fp',\n",
       " 'frombytes',\n",
       " 'get_format_mimetype',\n",
       " 'getbands',\n",
       " 'getbbox',\n",
       " 'getchannel',\n",
       " 'getcolors',\n",
       " 'getdata',\n",
       " 'getexif',\n",
       " 'getextrema',\n",
       " 'getim',\n",
       " 'getpalette',\n",
       " 'getpixel',\n",
       " 'getprojection',\n",
       " 'height',\n",
       " 'histogram',\n",
       " 'im',\n",
       " 'info',\n",
       " 'load',\n",
       " 'load_end',\n",
       " 'load_prepare',\n",
       " 'map',\n",
       " 'mode',\n",
       " 'palette',\n",
       " 'paste',\n",
       " 'point',\n",
       " 'putalpha',\n",
       " 'putdata',\n",
       " 'putpalette',\n",
       " 'putpixel',\n",
       " 'pyaccess',\n",
       " 'quantize',\n",
       " 'readonly',\n",
       " 'reduce',\n",
       " 'remap_palette',\n",
       " 'resize',\n",
       " 'rotate',\n",
       " 'save',\n",
       " 'seek',\n",
       " 'show',\n",
       " 'size',\n",
       " 'split',\n",
       " 'tell',\n",
       " 'thumbnail',\n",
       " 'tile',\n",
       " 'tobitmap',\n",
       " 'tobytes',\n",
       " 'toqimage',\n",
       " 'toqpixmap',\n",
       " 'transform',\n",
       " 'transpose',\n",
       " 'verify',\n",
       " 'width']"
      ]
     },
     "execution_count": 19,
     "metadata": {},
     "output_type": "execute_result"
    }
   ],
   "source": [
    "dir(page.filename)"
   ]
  },
  {
   "cell_type": "code",
   "execution_count": 18,
   "id": "2e8abe6b-fbd2-49b6-87e3-f8bd58bd734e",
   "metadata": {},
   "outputs": [
    {
     "name": "stdout",
     "output_type": "stream",
     "text": [
      "Help on function convert_from_path in module pdf2image.pdf2image:\n",
      "\n",
      "convert_from_path(pdf_path, dpi=200, output_folder=None, first_page=None, last_page=None, fmt='ppm', jpegopt=None, thread_count=1, userpw=None, use_cropbox=False, strict=False, transparent=False, single_file=False, output_file=<pdf2image.generators.ThreadSafeGenerator object at 0x7fd3b022e040>, poppler_path=None, grayscale=False, size=None, paths_only=False, use_pdftocairo=False, timeout=None, hide_annotations=False)\n",
      "    Description: Convert PDF to Image will throw whenever one of the condition is reached\n",
      "    Parameters:\n",
      "        pdf_path -> Path to the PDF that you want to convert\n",
      "        dpi -> Image quality in DPI (default 200)\n",
      "        output_folder -> Write the resulting images to a folder (instead of directly in memory)\n",
      "        first_page -> First page to process\n",
      "        last_page -> Last page to process before stopping\n",
      "        fmt -> Output image format\n",
      "        jpegopt -> jpeg options `quality`, `progressive`, and `optimize` (only for jpeg format)\n",
      "        thread_count -> How many threads we are allowed to spawn for processing\n",
      "        userpw -> PDF's password\n",
      "        use_cropbox -> Use cropbox instead of mediabox\n",
      "        strict -> When a Syntax Error is thrown, it will be raised as an Exception\n",
      "        transparent -> Output with a transparent background instead of a white one.\n",
      "        single_file -> Uses the -singlefile option from pdftoppm/pdftocairo\n",
      "        output_file -> What is the output filename or generator\n",
      "        poppler_path -> Path to look for poppler binaries\n",
      "        grayscale -> Output grayscale image(s)\n",
      "        size -> Size of the resulting image(s), uses the Pillow (width, height) standard\n",
      "        paths_only -> Don't load image(s), return paths instead (requires output_folder)\n",
      "        use_pdftocairo -> Use pdftocairo instead of pdftoppm, may help performance\n",
      "        timeout -> Raise PDFPopplerTimeoutError after the given time\n",
      "\n"
     ]
    }
   ],
   "source": [
    "help(convert_from_path)"
   ]
  },
  {
   "cell_type": "code",
   "execution_count": 15,
   "id": "e04e119f-00d6-4e83-909a-70be76760c2d",
   "metadata": {},
   "outputs": [
    {
     "ename": "PolicyError",
     "evalue": "attempt to perform an operation not allowed by the security policy `PDF' @ error/constitute.c/IsCoderAuthorized/421",
     "output_type": "error",
     "traceback": [
      "\u001b[0;31m---------------------------------------------------------------------------\u001b[0m",
      "\u001b[0;31mPolicyError\u001b[0m                               Traceback (most recent call last)",
      "Cell \u001b[0;32mIn [15], line 1\u001b[0m\n\u001b[0;32m----> 1\u001b[0m \u001b[43mpdf_to_img\u001b[49m\u001b[43m(\u001b[49m\u001b[38;5;124;43m'\u001b[39;49m\u001b[38;5;124;43m./测试样本/贝格达伺服产品选型手册.pdf\u001b[39;49m\u001b[38;5;124;43m'\u001b[39;49m\u001b[43m)\u001b[49m\n",
      "Cell \u001b[0;32mIn [14], line 27\u001b[0m, in \u001b[0;36mpdf_to_img\u001b[0;34m(pdf_path, resolution, img_suffix)\u001b[0m\n\u001b[1;32m     25\u001b[0m dst_pdf\u001b[38;5;241m.\u001b[39mwrite(pdf_bytes)\n\u001b[1;32m     26\u001b[0m pdf_bytes\u001b[38;5;241m.\u001b[39mseek(\u001b[38;5;241m0\u001b[39m)\n\u001b[0;32m---> 27\u001b[0m img \u001b[38;5;241m=\u001b[39m \u001b[43mImage\u001b[49m\u001b[43m(\u001b[49m\u001b[43mfile\u001b[49m\u001b[38;5;241;43m=\u001b[39;49m\u001b[43mpdf_bytes\u001b[49m\u001b[43m,\u001b[49m\u001b[43m \u001b[49m\u001b[43mresolution\u001b[49m\u001b[38;5;241;43m=\u001b[39;49m\u001b[43mresolution\u001b[49m\u001b[43m)\u001b[49m\n\u001b[1;32m     28\u001b[0m img\u001b[38;5;241m.\u001b[39mformat \u001b[38;5;241m=\u001b[39m img_suffix\n\u001b[1;32m     29\u001b[0m \u001b[38;5;66;03m# img.compression_quality = 90  # 图片质量压缩\u001b[39;00m\n",
      "File \u001b[0;32m~/anaconda3/envs/py39/lib/python3.9/site-packages/wand/image.py:9322\u001b[0m, in \u001b[0;36mImage.__init__\u001b[0;34m(self, image, blob, file, filename, pseudo, background, colorspace, depth, extract, format, height, interlace, resolution, sampling_factors, units, width)\u001b[0m\n\u001b[1;32m   9315\u001b[0m \u001b[38;5;28mself\u001b[39m\u001b[38;5;241m.\u001b[39m_preamble_read(\n\u001b[1;32m   9316\u001b[0m     background\u001b[38;5;241m=\u001b[39mbackground, colorspace\u001b[38;5;241m=\u001b[39mcolorspace, depth\u001b[38;5;241m=\u001b[39mdepth,\n\u001b[1;32m   9317\u001b[0m     extract\u001b[38;5;241m=\u001b[39mextract, \u001b[38;5;28mformat\u001b[39m\u001b[38;5;241m=\u001b[39m\u001b[38;5;28mformat\u001b[39m, height\u001b[38;5;241m=\u001b[39mheight,\n\u001b[1;32m   9318\u001b[0m     interlace\u001b[38;5;241m=\u001b[39minterlace, resolution\u001b[38;5;241m=\u001b[39mresolution,\n\u001b[1;32m   9319\u001b[0m     sampling_factors\u001b[38;5;241m=\u001b[39msampling_factors, width\u001b[38;5;241m=\u001b[39mwidth\n\u001b[1;32m   9320\u001b[0m )\n\u001b[1;32m   9321\u001b[0m \u001b[38;5;28;01mif\u001b[39;00m file \u001b[38;5;129;01mis\u001b[39;00m \u001b[38;5;129;01mnot\u001b[39;00m \u001b[38;5;28;01mNone\u001b[39;00m:\n\u001b[0;32m-> 9322\u001b[0m     \u001b[38;5;28;43mself\u001b[39;49m\u001b[38;5;241;43m.\u001b[39;49m\u001b[43mread\u001b[49m\u001b[43m(\u001b[49m\u001b[43mfile\u001b[49m\u001b[38;5;241;43m=\u001b[39;49m\u001b[43mfile\u001b[49m\u001b[43m)\u001b[49m\n\u001b[1;32m   9323\u001b[0m \u001b[38;5;28;01melif\u001b[39;00m blob \u001b[38;5;129;01mis\u001b[39;00m \u001b[38;5;129;01mnot\u001b[39;00m \u001b[38;5;28;01mNone\u001b[39;00m:\n\u001b[1;32m   9324\u001b[0m     \u001b[38;5;28mself\u001b[39m\u001b[38;5;241m.\u001b[39mread(blob\u001b[38;5;241m=\u001b[39mblob)\n",
      "File \u001b[0;32m~/anaconda3/envs/py39/lib/python3.9/site-packages/wand/image.py:10075\u001b[0m, in \u001b[0;36mImage.read\u001b[0;34m(self, file, filename, blob, background, colorspace, depth, extract, format, height, interlace, resolution, sampling_factors, units, width)\u001b[0m\n\u001b[1;32m  10073\u001b[0m     r \u001b[38;5;241m=\u001b[39m library\u001b[38;5;241m.\u001b[39mMagickReadImage(\u001b[38;5;28mself\u001b[39m\u001b[38;5;241m.\u001b[39mwand, filename)\n\u001b[1;32m  10074\u001b[0m \u001b[38;5;28;01mif\u001b[39;00m \u001b[38;5;129;01mnot\u001b[39;00m r:\n\u001b[0;32m> 10075\u001b[0m     \u001b[38;5;28;43mself\u001b[39;49m\u001b[38;5;241;43m.\u001b[39;49m\u001b[43mraise_exception\u001b[49m\u001b[43m(\u001b[49m\u001b[43m)\u001b[49m\n\u001b[1;32m  10076\u001b[0m     msg \u001b[38;5;241m=\u001b[39m (\u001b[38;5;124m'\u001b[39m\u001b[38;5;124mMagickReadImage returns false, but did not raise \u001b[39m\u001b[38;5;124m'\u001b[39m\n\u001b[1;32m  10077\u001b[0m            \u001b[38;5;124m'\u001b[39m\u001b[38;5;124mImageMagick  exception. This can occur when a delegate \u001b[39m\u001b[38;5;124m'\u001b[39m\n\u001b[1;32m  10078\u001b[0m            \u001b[38;5;124m'\u001b[39m\u001b[38;5;124mis missing, or returns EXIT_SUCCESS without generating a \u001b[39m\u001b[38;5;124m'\u001b[39m\n\u001b[1;32m  10079\u001b[0m            \u001b[38;5;124m'\u001b[39m\u001b[38;5;124mraster.\u001b[39m\u001b[38;5;124m'\u001b[39m)\n\u001b[1;32m  10080\u001b[0m     \u001b[38;5;28;01mraise\u001b[39;00m WandRuntimeError(msg)\n",
      "File \u001b[0;32m~/anaconda3/envs/py39/lib/python3.9/site-packages/wand/resource.py:225\u001b[0m, in \u001b[0;36mResource.raise_exception\u001b[0;34m(self, stacklevel)\u001b[0m\n\u001b[1;32m    223\u001b[0m     warnings\u001b[38;5;241m.\u001b[39mwarn(e, stacklevel\u001b[38;5;241m=\u001b[39mstacklevel \u001b[38;5;241m+\u001b[39m \u001b[38;5;241m1\u001b[39m)\n\u001b[1;32m    224\u001b[0m \u001b[38;5;28;01melif\u001b[39;00m \u001b[38;5;28misinstance\u001b[39m(e, \u001b[38;5;167;01mException\u001b[39;00m):\n\u001b[0;32m--> 225\u001b[0m     \u001b[38;5;28;01mraise\u001b[39;00m e\n",
      "\u001b[0;31mPolicyError\u001b[0m: attempt to perform an operation not allowed by the security policy `PDF' @ error/constitute.c/IsCoderAuthorized/421"
     ]
    }
   ],
   "source": [
    "pdf_to_img('./测试样本/贝格达伺服产品选型手册.pdf')"
   ]
  },
  {
   "cell_type": "code",
   "execution_count": null,
   "id": "1decef65-78fc-45ef-980c-8195f409a25f",
   "metadata": {},
   "outputs": [],
   "source": []
  }
 ],
 "metadata": {
  "kernelspec": {
   "display_name": "py39",
   "language": "python",
   "name": "py39"
  },
  "language_info": {
   "codemirror_mode": {
    "name": "ipython",
    "version": 3
   },
   "file_extension": ".py",
   "mimetype": "text/x-python",
   "name": "python",
   "nbconvert_exporter": "python",
   "pygments_lexer": "ipython3",
   "version": "3.9.13"
  }
 },
 "nbformat": 4,
 "nbformat_minor": 5
}
